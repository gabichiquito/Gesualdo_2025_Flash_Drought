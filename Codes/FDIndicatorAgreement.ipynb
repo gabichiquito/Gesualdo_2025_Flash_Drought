{
 "cells": [
  {
   "cell_type": "code",
   "execution_count": 1,
   "id": "61ab6ad3",
   "metadata": {},
   "outputs": [],
   "source": [
    "import os\n",
    "import pandas as pd\n",
    "import glob"
   ]
  },
  {
   "cell_type": "markdown",
   "id": "4eab5f05",
   "metadata": {},
   "source": [
    "## Compute multi-indicator agreement at event-level"
   ]
  },
  {
   "cell_type": "code",
   "execution_count": 11,
   "id": "2e7972f7",
   "metadata": {},
   "outputs": [],
   "source": [
    "# Directory containing the CSV files\n",
    "input_dir = 'path/Flash_Dr_CONUS/FDextracted/'\n",
    "output_dir = 'path'"
   ]
  },
  {
   "cell_type": "code",
   "execution_count": 3,
   "id": "ab19e1dc",
   "metadata": {},
   "outputs": [],
   "source": [
    "# Define method columns (update this with your actual method column names)\n",
    "method_columns = [\n",
    "    'Alencar et al.', 'Noguera et al.', 'Osman et al.',\n",
    "    'Ford and Labosier', 'Pendergrass et al.', 'Christian et al.'\n",
    "]"
   ]
  },
  {
   "cell_type": "code",
   "execution_count": 6,
   "id": "45e5d414",
   "metadata": {},
   "outputs": [
    {
     "name": "stdout",
     "output_type": "stream",
     "text": [
      "Event columns created and files saved.\n"
     ]
    }
   ],
   "source": [
    "# Part 1: Create event columns for all CSVs\n",
    "def create_event_columns(file):\n",
    "    df = pd.read_csv(file)\n",
    "    huc4 = os.path.basename(file).split('_')[-1].split('.')[0]\n",
    "\n",
    "    for i in range(1, len(method_columns) + 1):\n",
    "        col_name = f'event_{i}_methods'\n",
    "        df[col_name] = (df[method_columns].sum(axis=1) >= i).astype(int)\n",
    "\n",
    "    output_path = os.path.join(output_dir, f\"result_HUC4_{huc4}_with_multiple_event_columns.csv\")\n",
    "    df.to_csv(output_path, index=False)\n",
    "\n",
    "# Apply to all input files\n",
    "for file in glob.glob(os.path.join(input_dir, \"result_HUC4_*.csv\")):\n",
    "    create_event_columns(file)\n",
    "\n",
    "print(\"Event columns created and files saved.\")\n",
    "\n",
    "# Part 2: Analyze event duration and frequency\n",
    "event_cols = [f'event_{i}_methods' for i in range(1, 7)]\n",
    "summary_results = []"
   ]
  },
  {
   "cell_type": "code",
   "execution_count": 7,
   "id": "de18987c",
   "metadata": {},
   "outputs": [],
   "source": [
    "def summarize_events(file):\n",
    "    huc4 = os.path.basename(file).split('_')[2]\n",
    "    df = pd.read_csv(file, usecols=['Date'] + event_cols)\n",
    "    df['Date'] = pd.to_datetime(df['Date'])\n",
    "\n",
    "    for col in event_cols:\n",
    "        durations, num_events = [], 0\n",
    "        current_start = None\n",
    "\n",
    "        for date, value in zip(df['Date'], df[col]):\n",
    "            if value == 1 and current_start is None:\n",
    "                current_start = date\n",
    "                num_events += 1\n",
    "            elif value == 0 and current_start is not None:\n",
    "                durations.append((date - current_start).days)\n",
    "                current_start = None\n",
    "\n",
    "        if current_start is not None:\n",
    "            durations.append((df['Date'].iloc[-1] - current_start).days)\n",
    "\n",
    "        summary_results.append({\n",
    "            'huc4_code': huc4,\n",
    "            'event_type': col,\n",
    "            'number_of_events': num_events,\n",
    "            'mean_duration': sum(durations) / len(durations) if durations else 0\n",
    "        })"
   ]
  },
  {
   "cell_type": "code",
   "execution_count": 8,
   "id": "8640bc5e",
   "metadata": {},
   "outputs": [],
   "source": [
    "# Apply to all output files with event columns\n",
    "for file in glob.glob(os.path.join(output_dir, \"result_HUC4_*_with_multiple_event_columns.csv\")):\n",
    "    summarize_events(file)"
   ]
  },
  {
   "cell_type": "code",
   "execution_count": null,
   "id": "09b73ca2",
   "metadata": {},
   "outputs": [
    {
     "name": "stdout",
     "output_type": "stream",
     "text": [
      "Event summary saved to C:/Users/gqg5266/OneDrive - The Pennsylvania State University/PennState/FlashDrought_main/Flash_Dr_CONUS/FDextracted_v5_2025/huc4_event_summary_by_method_threshold.csv\n"
     ]
    }
   ],
   "source": [
    "# Save results\n",
    "results_df = pd.DataFrame(summary_results)\n",
    "results_df = results_df.iloc[:-6]  # remove last 6 rows as requested\n",
    "summary_file = os.path.join(input_dir, 'huc4_event_summary_by_method_threshold.csv')\n",
    "results_df.to_csv(summary_file, index=False)\n",
    "\n",
    "print(f\"Event summary saved to {summary_file}\")"
   ]
  }
 ],
 "metadata": {
  "kernelspec": {
   "display_name": "flashdrought",
   "language": "python",
   "name": "python3"
  },
  "language_info": {
   "codemirror_mode": {
    "name": "ipython",
    "version": 3
   },
   "file_extension": ".py",
   "mimetype": "text/x-python",
   "name": "python",
   "nbconvert_exporter": "python",
   "pygments_lexer": "ipython3",
   "version": "3.12.3"
  }
 },
 "nbformat": 4,
 "nbformat_minor": 5
}
