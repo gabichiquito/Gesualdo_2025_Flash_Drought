{
 "cells": [
  {
   "cell_type": "code",
   "execution_count": 1,
   "id": "ddfb3fa2",
   "metadata": {},
   "outputs": [],
   "source": [
    "import os\n",
    "import pandas as pd\n",
    "import numpy as np"
   ]
  },
  {
   "cell_type": "markdown",
   "id": "b9c40208",
   "metadata": {},
   "source": [
    "## Compute the level of agreement between indicators"
   ]
  },
  {
   "cell_type": "code",
   "execution_count": null,
   "id": "dc67aa62",
   "metadata": {},
   "outputs": [],
   "source": [
    "# Directory containing the CSV files\n",
    "input_directory = 'path/FDextracted'"
   ]
  },
  {
   "cell_type": "code",
   "execution_count": 63,
   "id": "22850d20",
   "metadata": {},
   "outputs": [],
   "source": [
    "# Mapping of original column names to standardized ones\n",
    "method_map = {\n",
    "    \"Alencar et al.\": \"Alencar\",\n",
    "    \"Noguera et al.\": \"Noguera\",\n",
    "    \"Osman et al.\": \"Osman\",\n",
    "    \"Ford and Labosier\": \"Ford_and_Labosier\",\n",
    "    \"Pendergrass et al.\": \"Pendergrass\",\n",
    "    \"Christian et al.\": \"Christian\"\n",
    "}"
   ]
  },
  {
   "cell_type": "code",
   "execution_count": 64,
   "id": "f6637bfa",
   "metadata": {},
   "outputs": [],
   "source": [
    "# Initialize a list to store the rows\n",
    "rows_list = []"
   ]
  },
  {
   "cell_type": "code",
   "execution_count": 65,
   "id": "3662f7ac",
   "metadata": {},
   "outputs": [
    {
     "name": "stdout",
     "output_type": "stream",
     "text": [
      "Skipping huc4_event_summary_by_method_threshold.csv, missing columns: ['Alencar et al.', 'Noguera et al.', 'Osman et al.', 'Ford and Labosier', 'Pendergrass et al.', 'Christian et al.']\n",
      "Agreement correlation matrix:\n",
      "                   Alencar  Noguera  Osman  Ford_and_Labosier  Pendergrass  \\\n",
      "Alencar              100.0     49.2   65.4               49.0         27.1   \n",
      "Noguera               35.0    100.0   51.7               33.0         24.2   \n",
      "Osman                 20.6     22.9  100.0               39.5         13.8   \n",
      "Ford_and_Labosier     27.4     26.0   70.3              100.0         15.9   \n",
      "Pendergrass           29.3     36.8   47.4               30.8        100.0   \n",
      "Christian             15.2     18.4   35.5               20.8         11.7   \n",
      "\n",
      "                   Christian  \n",
      "Alencar                 22.2  \n",
      "Noguera                 19.2  \n",
      "Osman                   16.3  \n",
      "Ford_and_Labosier       17.1  \n",
      "Pendergrass             18.5  \n",
      "Christian              100.0  \n"
     ]
    }
   ],
   "source": [
    "# Check columns once and filter safely\n",
    "for filename in os.listdir(input_dir):\n",
    "    if filename.endswith(\".csv\"):\n",
    "        huc4_code = filename.split('_')[-1].split('.')[0]\n",
    "        df = pd.read_csv(os.path.join(input_dir, filename))\n",
    "\n",
    "        # Validate presence of required columns\n",
    "        available_cols = set(df.columns)\n",
    "        missing_cols = [col for col in method_map if col not in available_cols]\n",
    "        if missing_cols:\n",
    "            print(f\"Skipping {filename}, missing columns: {missing_cols}\")\n",
    "            continue\n",
    "\n",
    "        # Filter rows where any method detected an event\n",
    "        method_cols = list(method_map.keys())\n",
    "        filtered_df = df[df[method_cols].eq(1).any(axis=1)].copy()\n",
    "        filtered_df[\"HUC4\"] = huc4_code\n",
    "\n",
    "        # Rename for standardization\n",
    "        filtered_df = filtered_df.rename(columns=method_map)\n",
    "        rows_list.append(filtered_df[[\"Date\", \"HUC4\"] + list(method_map.values())])\n",
    "\n",
    "# Combine all results\n",
    "if rows_list:\n",
    "    results = pd.concat(rows_list, ignore_index=True)\n",
    "\n",
    "    # Compute agreement matrix\n",
    "    methods = list(method_map.values())\n",
    "    correlation_matrix = pd.DataFrame(index=methods, columns=methods, dtype=float)\n",
    "\n",
    "    for m1 in methods:\n",
    "        for m2 in methods:\n",
    "            if m1 == m2:\n",
    "                correlation_matrix.loc[m1, m2] = 100.0\n",
    "            else:\n",
    "                both_agree = np.sum((results[m1] == 1) & (results[m2] == 1))\n",
    "                m1_total = np.sum(results[m1] == 1)\n",
    "                correlation_matrix.loc[m1, m2] = (both_agree / m1_total * 100) if m1_total else 0\n",
    "\n",
    "    print(\"Agreement correlation matrix:\")\n",
    "    print(correlation_matrix.round(1))\n",
    "else:\n",
    "    print(\"No valid data found in the input directory.\")"
   ]
  },
  {
   "cell_type": "code",
   "execution_count": null,
   "id": "7f769d8b",
   "metadata": {},
   "outputs": [],
   "source": []
  }
 ],
 "metadata": {
  "kernelspec": {
   "display_name": "flashdrought",
   "language": "python",
   "name": "python3"
  },
  "language_info": {
   "codemirror_mode": {
    "name": "ipython",
    "version": 3
   },
   "file_extension": ".py",
   "mimetype": "text/x-python",
   "name": "python",
   "nbconvert_exporter": "python",
   "pygments_lexer": "ipython3",
   "version": "3.12.3"
  }
 },
 "nbformat": 4,
 "nbformat_minor": 5
}
